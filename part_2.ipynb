{
  "nbformat": 4,
  "nbformat_minor": 0,
  "metadata": {
    "colab": {
      "provenance": [],
      "authorship_tag": "ABX9TyNxwCuWdxaa+kovwtYix1Nc",
      "include_colab_link": true
    },
    "kernelspec": {
      "name": "python3",
      "display_name": "Python 3"
    },
    "language_info": {
      "name": "python"
    }
  },
  "cells": [
    {
      "cell_type": "markdown",
      "metadata": {
        "id": "view-in-github",
        "colab_type": "text"
      },
      "source": [
        "<a href=\"https://colab.research.google.com/github/Abhishek-Adari/Computer-Vision-Projects/blob/main/part_2.ipynb\" target=\"_parent\"><img src=\"https://colab.research.google.com/assets/colab-badge.svg\" alt=\"Open In Colab\"/></a>"
      ]
    },
    {
      "cell_type": "code",
      "execution_count": 3,
      "metadata": {
        "id": "8arFbAlXB4D8"
      },
      "outputs": [],
      "source": [
        "import torch\n",
        "import numpy as np"
      ]
    },
    {
      "cell_type": "code",
      "source": [
        "tensor_a = torch.arange(5)\n",
        "tensor_b = torch.arange(4, 9)\n",
        "tensor_b"
      ],
      "metadata": {
        "colab": {
          "base_uri": "https://localhost:8080/"
        },
        "id": "JjwEfsqOB7Z0",
        "outputId": "106daf62-b35f-4490-c843-9708058e35fa"
      },
      "execution_count": 11,
      "outputs": [
        {
          "output_type": "execute_result",
          "data": {
            "text/plain": [
              "tensor([4, 5, 6, 7, 8])"
            ]
          },
          "metadata": {},
          "execution_count": 11
        }
      ]
    },
    {
      "cell_type": "markdown",
      "source": [
        "ADDITION OF TENSORS: Adding two tensors can be done only if they are the same size"
      ],
      "metadata": {
        "id": "uyM1-f1MCv7n"
      }
    },
    {
      "cell_type": "code",
      "source": [
        "tensor_a + tensor_b\n",
        "#can also broadcast\n",
        "tensor_c = torch.tensor([[1,1,1,1,1],[2,2,2,2, 2]])\n",
        "tensor_c + tensor_a"
      ],
      "metadata": {
        "colab": {
          "base_uri": "https://localhost:8080/"
        },
        "id": "3xQ-twDwC4R2",
        "outputId": "add3c797-62fb-4d13-df2a-0bb208da1098"
      },
      "execution_count": 17,
      "outputs": [
        {
          "output_type": "execute_result",
          "data": {
            "text/plain": [
              "tensor([[1, 2, 3, 4, 5],\n",
              "        [2, 3, 4, 5, 6]])"
            ]
          },
          "metadata": {},
          "execution_count": 17
        }
      ]
    },
    {
      "cell_type": "markdown",
      "source": [
        "TENSOR Subtraction: Subtracting is the exact same thing with the exact same syntax(can also use 'torch.sub()')\n",
        "\n",
        "TENSOR Multiplication: Same as the above(can use torch.mul(tensors))\n",
        "\n",
        "Tensor Division: Divides tensor are same as above (except changes the result tensor to dtype = float)\n",
        "\n",
        "Tensor Modulus: Same and can use torch.mod()\n",
        "\n",
        "Power: Exact same and can use torch.pow()\n"
      ],
      "metadata": {
        "id": "V5EHGAc6FSYb"
      }
    },
    {
      "cell_type": "code",
      "source": [
        "tensor_b\n"
      ],
      "metadata": {
        "colab": {
          "base_uri": "https://localhost:8080/"
        },
        "id": "m45ZR12pFk9g",
        "outputId": "48163da8-8aaa-442d-ad1d-ddd63d98735c"
      },
      "execution_count": 18,
      "outputs": [
        {
          "output_type": "execute_result",
          "data": {
            "text/plain": [
              "tensor([4, 5, 6, 7, 8])"
            ]
          },
          "metadata": {},
          "execution_count": 18
        }
      ]
    },
    {
      "cell_type": "code",
      "source": [
        "tensor_b **= tensor_a\n",
        "tensor_b"
      ],
      "metadata": {
        "colab": {
          "base_uri": "https://localhost:8080/"
        },
        "id": "UOYulDCcG96N",
        "outputId": "6c4a1544-effb-4b01-d13a-abde14340cd2"
      },
      "execution_count": 21,
      "outputs": [
        {
          "output_type": "execute_result",
          "data": {
            "text/plain": [
              "tensor([    1,     7,   100,  2197, 65536])"
            ]
          },
          "metadata": {},
          "execution_count": 21
        }
      ]
    }
  ]
}